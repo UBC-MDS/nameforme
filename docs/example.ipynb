{
 "cells": [
  {
   "cell_type": "markdown",
   "metadata": {},
   "source": [
    "# Example usage\n",
    "\n",
    "To use `nameforme` in a project:"
   ]
  },
  {
   "cell_type": "code",
   "execution_count": 1,
   "metadata": {},
   "outputs": [
    {
     "ename": "ModuleNotFoundError",
     "evalue": "No module named 'nameforme'",
     "output_type": "error",
     "traceback": [
      "\u001b[0;31m---------------------------------------------------------------------------\u001b[0m",
      "\u001b[0;31mModuleNotFoundError\u001b[0m                       Traceback (most recent call last)",
      "Cell \u001b[0;32mIn[1], line 1\u001b[0m\n\u001b[0;32m----> 1\u001b[0m \u001b[38;5;28;01mimport\u001b[39;00m \u001b[38;5;21;01mnameforme\u001b[39;00m\n\u001b[1;32m      3\u001b[0m \u001b[38;5;28mprint\u001b[39m(nameforme\u001b[38;5;241m.\u001b[39m__version__)\n",
      "\u001b[0;31mModuleNotFoundError\u001b[0m: No module named 'nameforme'"
     ]
    }
   ],
   "source": [
    "import nameforme\n",
    "\n",
    "print(nameforme.__version__)"
   ]
  },
  {
   "cell_type": "code",
   "execution_count": 2,
   "metadata": {},
   "outputs": [
    {
     "ename": "ModuleNotFoundError",
     "evalue": "No module named 'nameforme'",
     "output_type": "error",
     "traceback": [
      "\u001b[0;31m---------------------------------------------------------------------------\u001b[0m",
      "\u001b[0;31mModuleNotFoundError\u001b[0m                       Traceback (most recent call last)",
      "Cell \u001b[0;32mIn[2], line 1\u001b[0m\n\u001b[0;32m----> 1\u001b[0m \u001b[38;5;28;01mfrom\u001b[39;00m \u001b[38;5;21;01mnameforme\u001b[39;00m\u001b[38;5;21;01m.\u001b[39;00m\u001b[38;5;21;01mnameforme\u001b[39;00m \u001b[38;5;28;01mimport\u001b[39;00m find_name\n\u001b[1;32m      2\u001b[0m \u001b[38;5;28;01mfrom\u001b[39;00m \u001b[38;5;21;01mnameforme\u001b[39;00m\u001b[38;5;21;01m.\u001b[39;00m\u001b[38;5;21;01mnameforme\u001b[39;00m \u001b[38;5;28;01mimport\u001b[39;00m find_old_name\n\u001b[1;32m      3\u001b[0m \u001b[38;5;28;01mfrom\u001b[39;00m \u001b[38;5;21;01mnameforme\u001b[39;00m\u001b[38;5;21;01m.\u001b[39;00m\u001b[38;5;21;01mnameforme\u001b[39;00m \u001b[38;5;28;01mimport\u001b[39;00m find_similar_name\n",
      "\u001b[0;31mModuleNotFoundError\u001b[0m: No module named 'nameforme'"
     ]
    }
   ],
   "source": [
    "from nameforme.nameforme import find_name\n",
    "from nameforme.nameforme import find_old_name\n",
    "from nameforme.nameforme import find_similar_name\n",
    "from nameforme.nameforme import find_unisex_name"
   ]
  },
  {
   "cell_type": "code",
   "execution_count": null,
   "metadata": {},
   "outputs": [],
   "source": [
    "# Load all required package functions\n",
    "\n",
    "\n",
    "# Generate the a random set of 10 suggested baby names based on the given limitations.\n",
    "find_name(\"F\", \"A\", 3)\n",
    "\n",
    "# Generate a random set of 10(if there are that many exists) suggested neutral(by default) baby names based on the given time period and sex.\n",
    "find_old_name('1980s', limit=3)\n",
    "\n",
    "# Generate a random list of names that sound similar to a given user input name.\n",
    "find_similar_name('Daniel', limit=20)\n",
    "\n",
    "# Generate the a random set of 10 suggested neutral baby names based on the given limitation and baby names in the past years.\n",
    "find_unisex_name(bar=0.02,limit=10)"
   ]
  }
 ],
 "metadata": {
  "kernelspec": {
   "display_name": "Python 3 (ipykernel)",
   "language": "python",
   "name": "python3"
  },
  "language_info": {
   "codemirror_mode": {
    "name": "ipython",
    "version": 3
   },
   "file_extension": ".py",
   "mimetype": "text/x-python",
   "name": "python",
   "nbconvert_exporter": "python",
   "pygments_lexer": "ipython3",
   "version": "3.10.8"
  },
  "vscode": {
   "interpreter": {
    "hash": "3d597f4c481aa0f25dceb95d2a0067e73c0966dcbd003d741d821a7208527ecf"
   }
  }
 },
 "nbformat": 4,
 "nbformat_minor": 4
}
