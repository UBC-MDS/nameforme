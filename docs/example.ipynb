{
 "cells": [
  {
   "attachments": {},
   "cell_type": "markdown",
   "metadata": {},
   "source": [
    "# Example Usage\n",
    "\n",
    "Below is a basic example of how to use each of the four functions included in this package."
   ]
  },
  {
   "attachments": {},
   "cell_type": "markdown",
   "metadata": {},
   "source": [
    "## Imports"
   ]
  },
  {
   "cell_type": "code",
   "execution_count": 1,
   "metadata": {},
   "outputs": [],
   "source": [
    "# Load all required package functions\n",
    "from nameforme.nameforme import find_name\n",
    "from nameforme.nameforme import find_old_name\n",
    "from nameforme.nameforme import find_similar_name\n",
    "from nameforme.nameforme import find_unisex_name"
   ]
  },
  {
   "attachments": {},
   "cell_type": "markdown",
   "metadata": {},
   "source": [
    "## Fuctions\n",
    "\n",
    "### 1. find_name() - a function to generate a random set of 10 suggested baby names based on the given limitations.\n",
    "\n",
    "- if the given limitation can match to at least 10 names, a list of 10 names will be provided"
   ]
  },
  {
   "cell_type": "code",
   "execution_count": 2,
   "metadata": {},
   "outputs": [
    {
     "data": {
      "text/plain": [
       "['Ann', 'Ana', 'Ali', 'Ami', 'Ada', 'Ani', 'Ava', 'Aya', 'Amy', 'Ari']"
      ]
     },
     "execution_count": 2,
     "metadata": {},
     "output_type": "execute_result"
    }
   ],
   "source": [
    "find_a = find_name(\"F\", \"A\", length=3)\n",
    "find_a"
   ]
  },
  {
   "attachments": {},
   "cell_type": "markdown",
   "metadata": {},
   "source": [
    "- if the given limitation can only match less than 10 names, all matched names will be provided"
   ]
  },
  {
   "cell_type": "code",
   "execution_count": 3,
   "metadata": {},
   "outputs": [
    {
     "data": {
      "text/plain": [
       "['Broderick']"
      ]
     },
     "execution_count": 3,
     "metadata": {},
     "output_type": "execute_result"
    }
   ],
   "source": [
    "find_b = find_name(\"m\", \"b\", length=9)\n",
    "find_b"
   ]
  },
  {
   "attachments": {},
   "cell_type": "markdown",
   "metadata": {},
   "source": [
    "### 2. find_old_name() - a funtion to generate a random set of suggested neutral(by default) baby names based on the given time period and sex."
   ]
  },
  {
   "cell_type": "code",
   "execution_count": 4,
   "metadata": {},
   "outputs": [
    {
     "data": {
      "text/plain": [
       "['Calvin', 'Tashaun', 'Kortney']"
      ]
     },
     "execution_count": 4,
     "metadata": {},
     "output_type": "execute_result"
    }
   ],
   "source": [
    "old_name = find_old_name('1980s', limit=3)\n",
    "old_name"
   ]
  },
  {
   "attachments": {},
   "cell_type": "markdown",
   "metadata": {},
   "source": [
    "### 3. find_similar_name() - a funciton to generate a random list of names that sound similar to a given user input name."
   ]
  },
  {
   "cell_type": "code",
   "execution_count": 5,
   "metadata": {},
   "outputs": [
    {
     "data": {
      "text/plain": [
       "['Daniella', 'Danial', 'Dontae', 'Nallely', 'Grant']"
      ]
     },
     "execution_count": 5,
     "metadata": {},
     "output_type": "execute_result"
    }
   ],
   "source": [
    "similar_name = find_similar_name('Daniel', limit=5)\n",
    "similar_name"
   ]
  },
  {
   "attachments": {},
   "cell_type": "markdown",
   "metadata": {},
   "source": [
    "### 4. find_unisex_name() - a function to generate the a random set of suggested neutral baby names based on the given limitation and baby names in the past years."
   ]
  },
  {
   "cell_type": "code",
   "execution_count": 6,
   "metadata": {},
   "outputs": [
    {
     "data": {
      "text/plain": [
       "['Azariah', 'Ollie', 'Baylor', 'Jessie', 'Royal', 'Cleo', 'Marion']"
      ]
     },
     "execution_count": 6,
     "metadata": {},
     "output_type": "execute_result"
    }
   ],
   "source": [
    "unisex_name = find_unisex_name(bar=0.02, limit=7)\n",
    "unisex_name"
   ]
  }
 ],
 "metadata": {
  "kernelspec": {
   "display_name": "nameforme-qcmnnDGw-py3.11",
   "language": "python",
   "name": "python3"
  },
  "language_info": {
   "codemirror_mode": {
    "name": "ipython",
    "version": 3
   },
   "file_extension": ".py",
   "mimetype": "text/x-python",
   "name": "python",
   "nbconvert_exporter": "python",
   "pygments_lexer": "ipython3",
   "version": "3.11.1"
  },
  "vscode": {
   "interpreter": {
    "hash": "7e079f6a479e88f0a92dd1d1b2fbdbda54a25e7b85c697fbde5163200666c730"
   }
  }
 },
 "nbformat": 4,
 "nbformat_minor": 4
}
